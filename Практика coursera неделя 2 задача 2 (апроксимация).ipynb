{
 "cells": [
  {
   "cell_type": "code",
   "execution_count": 31,
   "id": "5e7a22fc",
   "metadata": {},
   "outputs": [],
   "source": [
    "import numpy as np\n",
    "import scipy as sp\n",
    "import math\n",
    "from matplotlib import pylab as plt"
   ]
  },
  {
   "cell_type": "code",
   "execution_count": 231,
   "id": "61b63512",
   "metadata": {},
   "outputs": [],
   "source": [
    "\n",
    "def f(x):\n",
    "    res= np.sin(x / 5) * np.exp(x / 10) + 5 * np.exp(-x / 2)\n",
    "    return res"
   ]
  },
  {
   "cell_type": "code",
   "execution_count": 233,
   "id": "b64cdc26",
   "metadata": {},
   "outputs": [],
   "source": [
    "\n",
    "x1=1\n",
    "x2=15\n",
    "x3=10\n",
    "x4=4\n",
    "f1=f(x1)\n",
    "f2=f(x2)\n",
    "f3=f(x3)\n",
    "f4=f(x4)\n",
    "cf=np.array([[pow(x1,3),pow(x1,2),x1,1],[pow(x4,3),pow(x4,2),x4,1],[pow(x3,3),pow(x3,2),x3,1],[pow(x2,3),pow(x2,2),x2,1]])\n",
    "sv=np.array([[f1],[f4],[f3],[f2]])"
   ]
  },
  {
   "cell_type": "code",
   "execution_count": 234,
   "id": "83ea0e48",
   "metadata": {},
   "outputs": [
    {
     "data": {
      "text/plain": [
       "array([[   1,    1,    1,    1],\n",
       "       [  64,   16,    4,    1],\n",
       "       [1000,  100,   10,    1],\n",
       "       [3375,  225,   15,    1]])"
      ]
     },
     "execution_count": 234,
     "metadata": {},
     "output_type": "execute_result"
    }
   ],
   "source": [
    "cf"
   ]
  },
  {
   "cell_type": "code",
   "execution_count": 239,
   "id": "e1dfeec1",
   "metadata": {},
   "outputs": [
    {
     "data": {
      "text/plain": [
       "array([[3.25221687],\n",
       "       [1.74684595],\n",
       "       [2.50541641],\n",
       "       [0.63522142]])"
      ]
     },
     "execution_count": 239,
     "metadata": {},
     "output_type": "execute_result"
    }
   ],
   "source": [
    "sv"
   ]
  },
  {
   "cell_type": "code",
   "execution_count": 244,
   "id": "5a234f11",
   "metadata": {},
   "outputs": [],
   "source": [
    "otv_cf=np.linalg.solve(cf, sv)\n",
    "x=np.arange(1,16,1)\n",
    "def f1(x):\n",
    "    res= otv_cf[1]+otv_cf[0]*x\n",
    "    return res\n",
    "def f2(x):\n",
    "    res= otv_cf[2]+otv_cf[1]*x+otv_cf[0]*pow(x,2)\n",
    "    return res\n",
    "def f3(x):\n",
    "    res=otv_cf[3]+otv_cf[2]*x+otv_cf[1]*pow(x,2)+otv_cf[0]*pow(x,3)\n",
    "    return res"
   ]
  },
  {
   "cell_type": "code",
   "execution_count": 245,
   "id": "a8dacfdc",
   "metadata": {},
   "outputs": [
    {
     "data": {
      "image/png": "[encoded data removed]",
      "text/plain": [
       "<Figure size 432x288 with 1 Axes>"
      ]
     },
     "metadata": {
      "needs_background": "light"
     },
     "output_type": "display_data"
    }
   ],
   "source": [
    "plt.plot(x,f(x))\n",
    "plt.plot(x,f3(x))\n",
    "plt.show()"
   ]
  },
  {
   "cell_type": "code",
   "execution_count": 255,
   "id": "9e0f1f2f",
   "metadata": {},
   "outputs": [],
   "source": [
    "otv_final=np.array(otv_final)"
   ]
  },
  {
   "cell_type": "code",
   "execution_count": 254,
   "id": "801942bd",
   "metadata": {},
   "outputs": [],
   "source": [
    "otv_final=[4.3626415351180725,-1.295525865694844 ,0.19333684702151166,-0.008235651173320552]"
   ]
  },
  {
   "cell_type": "code",
   "execution_count": 257,
   "id": "67979fcc",
   "metadata": {},
   "outputs": [],
   "source": [
    "otv_final.tofile('otv.txt3',' ')"
   ]
  },
  {
   "cell_type": "code",
   "execution_count": null,
   "id": "6840dcbe",
   "metadata": {},
   "outputs": [],
   "source": []
  }
 ],
 "metadata": {
  "kernelspec": {
   "display_name": "Python 3",
   "language": "python",
   "name": "python3"
  },
  "language_info": {
   "codemirror_mode": {
    "name": "ipython",
    "version": 3
   },
   "file_extension": ".py",
   "mimetype": "text/x-python",
   "name": "python",
   "nbconvert_exporter": "python",
   "pygments_lexer": "ipython3",
   "version": "3.8.8"
  }
 },
 "nbformat": 4,
 "nbformat_minor": 5
}
